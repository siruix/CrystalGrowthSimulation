{
 "cells": [
  {
   "cell_type": "code",
   "execution_count": 158,
   "metadata": {
    "collapsed": false
   },
   "outputs": [],
   "source": [
    "from __future__ import division\n",
    "%matplotlib inline\n",
    "\n",
    "import pandas as pd\n",
    "import numpy as np\n",
    "import matplotlib.pylab as plt\n",
    "\n"
   ]
  },
  {
   "cell_type": "code",
   "execution_count": 159,
   "metadata": {
    "collapsed": true
   },
   "outputs": [],
   "source": [
    "delta = 10\n",
    "# beta_phi = [0.1, 0.2, 0.5, 1.0, 1.5, 2.0]\n",
    "# beta_mu = [0.1, 0.2, 0.3, 0.5, 0.7, 1.0, 1.5, 2.0]\n",
    "beta_phi = [0.1, 0.2, 0.5, 1.0, 1.5, 2.0, 2.5, 3.0, 4.0, 5.0]\n",
    "beta_mu = [0.1, 0.2, 0.3, 0.5, 0.7, 1.0, 1.5, 2.0, 2.5, 3.0, 3.5, 4.0, 4.5, 5.0, 6.0, 7.0]"
   ]
  },
  {
   "cell_type": "code",
   "execution_count": 160,
   "metadata": {
    "collapsed": false
   },
   "outputs": [],
   "source": [
    "# growth rate normalized by deposition_rate"
   ]
  },
  {
   "cell_type": "code",
   "execution_count": 161,
   "metadata": {
    "collapsed": false
   },
   "outputs": [
    {
     "data": {
      "text/plain": [
       "[<matplotlib.lines.Line2D at 0x1133cd8d0>]"
      ]
     },
     "execution_count": 161,
     "metadata": {},
     "output_type": "execute_result"
    },
    {
     "data": {
      "image/png": "[encoded data removed]",
      "text/plain": [
       "<matplotlib.figure.Figure at 0x112d84a90>"
      ]
     },
     "metadata": {},
     "output_type": "display_data"
    }
   ],
   "source": [
    "df01 = [None]*len(beta_mu)\n",
    "y01 = np.zeros(len(beta_mu))\n",
    "for i in range(len(beta_mu)):\n",
    "    df01[i] = pd.read_csv('images/sim_betaphi0.1_betamu%s/coverage.csv' % beta_mu[i], header=None)\n",
    "    with open('images/sim_betaphi0.1_betamu%s/deposition_rate_per_site.txt' % beta_mu[i], 'r') as f:\n",
    "        deposition_rate = float(f.readline())\n",
    "    y01[i] = (df01[i].loc[delta] - df01[i].loc[0]) / delta / deposition_rate\n",
    "\n",
    "plt.plot(beta_mu, y01, 'ro')"
   ]
  },
  {
   "cell_type": "code",
   "execution_count": 162,
   "metadata": {
    "collapsed": false
   },
   "outputs": [
    {
     "data": {
      "text/plain": [
       "[<matplotlib.lines.Line2D at 0x1134fc890>]"
      ]
     },
     "execution_count": 162,
     "metadata": {},
     "output_type": "execute_result"
    },
    {
     "data": {
      "image/png": "[encoded data removed]",
      "text/plain": [
       "<matplotlib.figure.Figure at 0x11341bfd0>"
      ]
     },
     "metadata": {},
     "output_type": "display_data"
    }
   ],
   "source": [
    "df02 = [None]*len(beta_mu)\n",
    "y02 = np.zeros(len(beta_mu))\n",
    "for i in range(len(beta_mu)):\n",
    "    df02[i] = pd.read_csv('images/sim_betaphi0.2_betamu%s/coverage.csv' % beta_mu[i], header=None)\n",
    "    with open('images/sim_betaphi0.2_betamu%s/deposition_rate_per_site.txt' % beta_mu[i], 'r') as f:\n",
    "        deposition_rate = float(f.readline())\n",
    "        y02[i] = (df02[i].loc[delta] - df02[i].loc[0]) / delta / deposition_rate\n",
    "\n",
    "plt.plot(beta_mu, y02, 'ro')\n"
   ]
  },
  {
   "cell_type": "code",
   "execution_count": 163,
   "metadata": {
    "collapsed": false
   },
   "outputs": [
    {
     "data": {
      "text/plain": [
       "[<matplotlib.lines.Line2D at 0x113629690>]"
      ]
     },
     "execution_count": 163,
     "metadata": {},
     "output_type": "execute_result"
    },
    {
     "data": {
      "image/png": "[encoded data removed]",
      "text/plain": [
       "<matplotlib.figure.Figure at 0x113553590>"
      ]
     },
     "metadata": {},
     "output_type": "display_data"
    }
   ],
   "source": [
    "df05 = [None]*len(beta_mu)\n",
    "y05 = np.zeros(len(beta_mu))\n",
    "for i in range(len(beta_mu)):\n",
    "    df05[i] = pd.read_csv('images/sim_betaphi0.5_betamu%s/coverage.csv' % beta_mu[i], header=None)\n",
    "    with open('images/sim_betaphi0.5_betamu%s/deposition_rate_per_site.txt' % beta_mu[i], 'r') as f:\n",
    "        deposition_rate = float(f.readline())\n",
    "    y05[i] = (df05[i].loc[delta] - df05[i].loc[0]) / delta / deposition_rate\n",
    "\n",
    "plt.plot(beta_mu, y05, 'ro')"
   ]
  },
  {
   "cell_type": "code",
   "execution_count": 164,
   "metadata": {
    "collapsed": false
   },
   "outputs": [
    {
     "data": {
      "text/plain": [
       "[<matplotlib.lines.Line2D at 0x11374df10>]"
      ]
     },
     "execution_count": 164,
     "metadata": {},
     "output_type": "execute_result"
    },
    {
     "data": {
      "image/png": "[encoded data removed]",
      "text/plain": [
       "<matplotlib.figure.Figure at 0x112c9fdd0>"
      ]
     },
     "metadata": {},
     "output_type": "display_data"
    }
   ],
   "source": [
    "df1 = [None]*len(beta_mu)\n",
    "y1 = np.zeros(len(beta_mu))\n",
    "for i in range(len(beta_mu)):\n",
    "    df1[i] = pd.read_csv('images/sim_betaphi1.0_betamu%s/coverage.csv' % beta_mu[i], header=None)\n",
    "    with open('images/sim_betaphi1.0_betamu%s/deposition_rate_per_site.txt' % beta_mu[i], 'r') as f:\n",
    "        deposition_rate = float(f.readline())\n",
    "        y1[i] = (df1[i].loc[delta] - df1[i].loc[0]) / delta / deposition_rate\n",
    "\n",
    "plt.plot(beta_mu, y1, 'ro')"
   ]
  },
  {
   "cell_type": "code",
   "execution_count": 165,
   "metadata": {
    "collapsed": false
   },
   "outputs": [
    {
     "data": {
      "text/plain": [
       "[<matplotlib.lines.Line2D at 0x1138790d0>]"
      ]
     },
     "execution_count": 165,
     "metadata": {},
     "output_type": "execute_result"
    },
    {
     "data": {
      "image/png": "[encoded data removed]",
      "text/plain": [
       "<matplotlib.figure.Figure at 0x111760b10>"
      ]
     },
     "metadata": {},
     "output_type": "display_data"
    }
   ],
   "source": [
    "df15 = [None]*len(beta_mu)\n",
    "y15 = np.zeros(len(beta_mu))\n",
    "for i in range(len(beta_mu)):\n",
    "    df15[i] = pd.read_csv('images/sim_betaphi1.5_betamu%s/coverage.csv' % beta_mu[i], header=None)\n",
    "    with open('images/sim_betaphi1.5_betamu%s/deposition_rate_per_site.txt' % beta_mu[i], 'r') as f:\n",
    "        deposition_rate = float(f.readline())\n",
    "        y15[i] = (df15[i].loc[delta] - df15[i].loc[0]) / delta / deposition_rate\n",
    "\n",
    "plt.plot(beta_mu, y15, 'ro')"
   ]
  },
  {
   "cell_type": "code",
   "execution_count": 166,
   "metadata": {
    "collapsed": false
   },
   "outputs": [
    {
     "data": {
      "text/plain": [
       "[<matplotlib.lines.Line2D at 0x113993050>]"
      ]
     },
     "execution_count": 166,
     "metadata": {},
     "output_type": "execute_result"
    },
    {
     "data": {
      "image/png": "[encoded data removed]",
      "text/plain": [
       "<matplotlib.figure.Figure at 0x11361a490>"
      ]
     },
     "metadata": {},
     "output_type": "display_data"
    }
   ],
   "source": [
    "df2 = [None]*len(beta_mu)\n",
    "y2 = np.zeros(len(beta_mu))\n",
    "for i in range(len(beta_mu)):\n",
    "    df2[i] = pd.read_csv('images/sim_betaphi2.0_betamu%s/coverage.csv' % beta_mu[i], header=None)\n",
    "    with open('images/sim_betaphi2.0_betamu%s/deposition_rate_per_site.txt' % beta_mu[i], 'r') as f:\n",
    "        deposition_rate = float(f.readline())\n",
    "        y2[i] = (df2[i].loc[delta] - df2[i].loc[0]) / delta / deposition_rate\n",
    "\n",
    "plt.plot(beta_mu, y2, 'ro')"
   ]
  },
  {
   "cell_type": "code",
   "execution_count": 167,
   "metadata": {
    "collapsed": false
   },
   "outputs": [
    {
     "data": {
      "text/plain": [
       "[<matplotlib.lines.Line2D at 0x113aad0d0>]"
      ]
     },
     "execution_count": 167,
     "metadata": {},
     "output_type": "execute_result"
    },
    {
     "data": {
      "image/png": "[encoded data removed]",
      "text/plain": [
       "<matplotlib.figure.Figure at 0x11379c890>"
      ]
     },
     "metadata": {},
     "output_type": "display_data"
    }
   ],
   "source": [
    "df25 = [None]*len(beta_mu)\n",
    "y25 = np.zeros(len(beta_mu))\n",
    "for i in range(len(beta_mu)):\n",
    "    df25[i] = pd.read_csv('images/sim_betaphi2.5_betamu%s/coverage.csv' % beta_mu[i], header=None)\n",
    "    with open('images/sim_betaphi2.5_betamu%s/deposition_rate_per_site.txt' % beta_mu[i], 'r') as f:\n",
    "        deposition_rate = float(f.readline())\n",
    "        y25[i] = (df25[i].loc[delta] - df25[i].loc[0]) / delta / deposition_rate\n",
    "\n",
    "plt.plot(beta_mu, y25, 'ro')"
   ]
  },
  {
   "cell_type": "code",
   "execution_count": 168,
   "metadata": {
    "collapsed": false
   },
   "outputs": [
    {
     "data": {
      "text/plain": [
       "[<matplotlib.lines.Line2D at 0x113bb3f50>]"
      ]
     },
     "execution_count": 168,
     "metadata": {},
     "output_type": "execute_result"
    },
    {
     "data": {
      "image/png": "[encoded data removed]",
      "text/plain": [
       "<matplotlib.figure.Figure at 0x1138bab10>"
      ]
     },
     "metadata": {},
     "output_type": "display_data"
    }
   ],
   "source": [
    "df3 = [None]*len(beta_mu)\n",
    "y3 = np.zeros(len(beta_mu))\n",
    "for i in range(len(beta_mu)):\n",
    "    df3[i] = pd.read_csv('images/sim_betaphi3.0_betamu%s/coverage.csv' % beta_mu[i], header=None)\n",
    "    with open('images/sim_betaphi3.0_betamu%s/deposition_rate_per_site.txt' % beta_mu[i], 'r') as f:\n",
    "        deposition_rate = float(f.readline())\n",
    "        y3[i] = (df3[i].loc[delta] - df3[i].loc[0]) / delta / deposition_rate\n",
    "\n",
    "plt.plot(beta_mu, y3, 'ro')"
   ]
  },
  {
   "cell_type": "code",
   "execution_count": 169,
   "metadata": {
    "collapsed": false
   },
   "outputs": [
    {
     "data": {
      "text/plain": [
       "[<matplotlib.lines.Line2D at 0x113ce6350>]"
      ]
     },
     "execution_count": 169,
     "metadata": {},
     "output_type": "execute_result"
    },
    {
     "data": {
      "image/png": "[encoded data removed]",
      "text/plain": [
       "<matplotlib.figure.Figure at 0x112243090>"
      ]
     },
     "metadata": {},
     "output_type": "display_data"
    }
   ],
   "source": [
    "df4 = [None]*len(beta_mu)\n",
    "y4 = np.zeros(len(beta_mu))\n",
    "for i in range(len(beta_mu)):\n",
    "    df4[i] = pd.read_csv('images/sim_betaphi4.0_betamu%s/coverage.csv' % beta_mu[i], header=None)\n",
    "    with open('images/sim_betaphi4.0_betamu%s/deposition_rate_per_site.txt' % beta_mu[i], 'r') as f:\n",
    "        deposition_rate = float(f.readline())\n",
    "        y4[i] = (df4[i].loc[delta] - df4[i].loc[0]) / delta / deposition_rate\n",
    "\n",
    "plt.plot(beta_mu, y4, 'ro')"
   ]
  },
  {
   "cell_type": "code",
   "execution_count": 170,
   "metadata": {
    "collapsed": false
   },
   "outputs": [
    {
     "data": {
      "text/plain": [
       "[<matplotlib.lines.Line2D at 0x113e0b110>]"
      ]
     },
     "execution_count": 170,
     "metadata": {},
     "output_type": "execute_result"
    },
    {
     "data": {
      "image/png": "[encoded data removed]",
      "text/plain": [
       "<matplotlib.figure.Figure at 0x11217c290>"
      ]
     },
     "metadata": {},
     "output_type": "display_data"
    }
   ],
   "source": [
    "df5 = [None]*len(beta_mu)\n",
    "y5 = np.zeros(len(beta_mu))\n",
    "for i in range(len(beta_mu)):\n",
    "    df5[i] = pd.read_csv('images/sim_betaphi5.0_betamu%s/coverage.csv' % beta_mu[i], header=None)\n",
    "    with open('images/sim_betaphi5.0_betamu%s/deposition_rate_per_site.txt' % beta_mu[i], 'r') as f:\n",
    "        deposition_rate = float(f.readline())\n",
    "        y5[i] = (df5[i].loc[delta] - df5[i].loc[0]) / delta / deposition_rate\n",
    "\n",
    "plt.plot(beta_mu, y5, 'ro')"
   ]
  }
 ],
 "metadata": {
  "kernelspec": {
   "display_name": "Python 2",
   "language": "python",
   "name": "python2"
  },
  "language_info": {
   "codemirror_mode": {
    "name": "ipython",
    "version": 2
   },
   "file_extension": ".py",
   "mimetype": "text/x-python",
   "name": "python",
   "nbconvert_exporter": "python",
   "pygments_lexer": "ipython2",
   "version": "2.7.10"
  }
 },
 "nbformat": 4,
 "nbformat_minor": 0
}
